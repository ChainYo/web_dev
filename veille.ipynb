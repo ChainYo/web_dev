{
 "metadata": {
  "language_info": {
   "codemirror_mode": {
    "name": "ipython",
    "version": 3
   },
   "file_extension": ".py",
   "mimetype": "text/x-python",
   "name": "python",
   "nbconvert_exporter": "python",
   "pygments_lexer": "ipython3",
   "version": "3.8.5-final"
  },
  "orig_nbformat": 2,
  "kernelspec": {
   "name": "python3",
   "display_name": "Python 3",
   "language": "python"
  }
 },
 "nbformat": 4,
 "nbformat_minor": 2,
 "cells": [
  {
   "source": [
    "# <center>Javascript</center>"
   ],
   "cell_type": "markdown",
   "metadata": {}
  },
  {
   "source": [
    "Le meilleur site avec toutes les meilleurs ressources pour du JS est celui de Mozilla, suivre [ce lien](https://developer.mozilla.org/fr/docs/Web/JavaScript).   \n",
    "L'avantage est que ce site est à la fois en Anglais et en Français."
   ],
   "cell_type": "markdown",
   "metadata": {}
  },
  {
   "source": [
    "Pour teste son code JS, une bonne pratique est d'utiliser la console développeur de Google Chrome qui est très performante pour voir l'application de son code JS et également ses pages HTML/CSS."
   ],
   "cell_type": "markdown",
   "metadata": {}
  },
  {
   "source": [
    "Javascript est un langage orienté objet."
   ],
   "cell_type": "markdown",
   "metadata": {}
  },
  {
   "source": [
    "```javascript\n",
    "const myObject = {\n",
    "  property: 'Value!',\n",
    "  otherProperty: 77,\n",
    "  \"obnoxious property\": function() {\n",
    "    // do stuff!\n",
    " }\n",
    "}\n",
    "```"
   ],
   "cell_type": "markdown",
   "metadata": {}
  },
  {
   "source": [
    "Il existe deux façons d'obtenir des informations "
   ],
   "cell_type": "markdown",
   "metadata": {}
  },
  {
   "source": [
    "```javascript\n",
    "// dot notation\n",
    "myObject.property // 'Value!'\n",
    "\n",
    "// bracket notation\n",
    "myObject[\"obnoxious property\"] // [Function]\n",
    "```"
   ],
   "cell_type": "markdown",
   "metadata": {}
  },
  {
   "source": [
    "javascript function test() { console.log(\"look ma’, no spaces\"); }"
   ],
   "cell_type": "code",
   "metadata": {},
   "execution_count": 9,
   "outputs": [
    {
     "output_type": "display_data",
     "data": {
      "text/plain": "<IPython.core.display.Javascript object>",
      "application/javascript": "javascript function test() { console.log(\"look ma’, no spaces\"); }\n"
     },
     "metadata": {}
    }
   ]
  }
 ]
}